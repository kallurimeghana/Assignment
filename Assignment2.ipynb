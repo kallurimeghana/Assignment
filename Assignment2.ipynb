{
 "cells": [
  {
   "cell_type": "code",
   "execution_count": null,
   "metadata": {},
   "outputs": [],
   "source": [
    "def findPlatform(arr,dep,n):\n",
    "    arr.sort()\n",
    "    dep.sort()\n",
    "    \n",
    "    plat_needed = 1\n",
    "    result = 1\n",
    "    i = 1\n",
    "    j = 0\n",
    "    \n",
    "while (i<n and j<n):\n",
    "    if (arr[i] < dep[j]):\n",
    "        plat_neede+=1\n",
    "        i+=1\n",
    "        if (plat_needed > result): \n",
    "                result = plat_needed\n",
    "\n",
    "    else:\n",
    "        \n",
    "            plat_needed-=1\n",
    "            j+=1\n",
    "return result\n",
    "\n",
    "\n",
    "arr = []\n",
    "dep = []\n",
    "n = int(input())\n",
    "for i in range(n):\n",
    "    a, b = map(int, input().split(' '))\n",
    "    arr.append(a)\n",
    "    dep.append(b)\n",
    "print(\"Minimum Number of PLatforms REquired =  \", findPlatform(arr, dep, n))"
   ]
  }
 ],
 "metadata": {
  "kernelspec": {
   "display_name": "Python 3",
   "language": "python",
   "name": "python3"
  },
  "language_info": {
   "codemirror_mode": {
    "name": "ipython",
    "version": 3
   },
   "file_extension": ".py",
   "mimetype": "text/x-python",
   "name": "python",
   "nbconvert_exporter": "python",
   "pygments_lexer": "ipython3",
   "version": "3.7.4"
  }
 },
 "nbformat": 4,
 "nbformat_minor": 2
}
